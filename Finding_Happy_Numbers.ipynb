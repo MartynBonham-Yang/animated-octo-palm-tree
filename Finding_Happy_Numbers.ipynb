{
  "nbformat": 4,
  "nbformat_minor": 0,
  "metadata": {
    "colab": {
      "name": "Finding Happy Numbers",
      "provenance": [],
      "authorship_tag": "ABX9TyPJBX6V8iLaaGBAvnxiAN1p",
      "include_colab_link": true
    },
    "kernelspec": {
      "name": "python3",
      "display_name": "Python 3"
    }
  },
  "cells": [
    {
      "cell_type": "markdown",
      "metadata": {
        "id": "view-in-github",
        "colab_type": "text"
      },
      "source": [
        "<a href=\"https://colab.research.google.com/github/MartynBonham-Yang/animated-octo-palm-tree/blob/master/Finding_Happy_Numbers.ipynb\" target=\"_parent\"><img src=\"https://colab.research.google.com/assets/colab-badge.svg\" alt=\"Open In Colab\"/></a>"
      ]
    },
    {
      "cell_type": "markdown",
      "metadata": {
        "id": "af9H0Kt4qR-L",
        "colab_type": "text"
      },
      "source": [
        "Starting with any positive integer *x_0*, follow the following algorithm: \n",
        "\n",
        "If *x_i* > 1, *x_(i+1)* = sum of the squares of the digits of *x_i*.  \n",
        "\n",
        "The algorithm terminates when either *x_j* = 1 for some *j*, or if the process loops endlessly. If *x_j* = 1 for some *j* then we call *x_0* a happy number. If not, we call it an unhappy number. \n",
        "\n"
      ]
    },
    {
      "cell_type": "code",
      "metadata": {
        "id": "FgpVJ1mXvc24",
        "colab_type": "code",
        "colab": {}
      },
      "source": [
        "#Import packages\n",
        "import math\n",
        "import numpy as np"
      ],
      "execution_count": 11,
      "outputs": []
    },
    {
      "cell_type": "code",
      "metadata": {
        "id": "fTZ2dlgfyAyO",
        "colab_type": "code",
        "colab": {}
      },
      "source": [
        "#Defining subsidiary functions\n",
        "\n",
        "def add_digits_squared(x):                #This function takes an integer and returns the sum of the squares of the digits of that integer.\n",
        "  digits_to_sum = []\n",
        "  for i in range(len(str(x))):\n",
        "    z = int(str(x)[-(i+1)])\n",
        "    digits_to_sum.append(z**2)\n",
        "  return(sum(digits_to_sum))\n",
        "\n",
        "def check_for_loop(lst):                #This function takes a list and returns True if it contains duplicates and False otherwise.\n",
        "  duplicate_checks = []\n",
        "  for i in lst:\n",
        "    if lst.count(i) > 1:\n",
        "      duplicate_checks.append(True)\n",
        "    else:\n",
        "      duplicate_checks.append(False)\n",
        "  return (sum(duplicate_checks) > 0)"
      ],
      "execution_count": 66,
      "outputs": []
    },
    {
      "cell_type": "code",
      "metadata": {
        "id": "VcERO1xOrMRE",
        "colab_type": "code",
        "colab": {}
      },
      "source": [
        "#Defining happy number algorithm function.\n",
        "\n",
        "def happynumber(x):         \n",
        "  x_orig = x\n",
        "  while True:   #Creates the initial loop to allow the function to run continuously.\n",
        "    if type(x) != int:    #integer checks\n",
        "      print('Sorry, x must be an integer. Please re-try.')\n",
        "      break\n",
        "    elif x <= 0:      #Positivity checks\n",
        "      print('Sorry, x must be positive. Please re-try.')\n",
        "      break\n",
        "    else:\n",
        "        x_iterations = []   #Create empty list to hold the values of x_i that our chosen x cycles through via the happy number algorithm.\n",
        "        if x == 1:  \n",
        "          print('Algorithm terminated. {} is a happy number.'.format(x_orig))   #End the algorithm automatically for x = 1.\n",
        "          break\n",
        "        while add_digits_squared(x) not in x_iterations:    #Constantly check if the algorithm has entered a loop. While no loop is found, continue\n",
        "          x_iterations.append(add_digits_squared(x))        #Add the next iteration to the iterations list.\n",
        "          x = add_digits_squared(x)                         #Update x to the next iteration of the algorithm. \n",
        "          continue\n",
        "        else:\n",
        "          print('Algorithm terminated. {} is not a happy number and falls into an endless loop.'.format(x_orig))    #If the algorithm has entered a loop\n",
        "          x_iterations.append(add_digits_squared(x))        #Add the last iteration (i.e. the first element of the found loop) to the iterations list.\n",
        "          print(x_iterations)                               \n",
        "          break\n",
        "         "
      ],
      "execution_count": 141,
      "outputs": []
    },
    {
      "cell_type": "code",
      "metadata": {
        "id": "zW_-Vz_pz1M8",
        "colab_type": "code",
        "colab": {}
      },
      "source": [
        ""
      ],
      "execution_count": null,
      "outputs": []
    }
  ]
}