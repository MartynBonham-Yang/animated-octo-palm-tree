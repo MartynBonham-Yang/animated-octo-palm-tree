{
  "nbformat": 4,
  "nbformat_minor": 0,
  "metadata": {
    "colab": {
      "name": "Caesar Cypher",
      "provenance": [],
      "authorship_tag": "ABX9TyPirG6sdlPYXVINEy3sEPC7",
      "include_colab_link": true
    },
    "kernelspec": {
      "name": "python3",
      "display_name": "Python 3"
    }
  },
  "cells": [
    {
      "cell_type": "markdown",
      "metadata": {
        "id": "view-in-github",
        "colab_type": "text"
      },
      "source": [
        "<a href=\"https://colab.research.google.com/github/MartynBonham-Yang/animated-octo-palm-tree/blob/master/Caesar_Cypher.ipynb\" target=\"_parent\"><img src=\"https://colab.research.google.com/assets/colab-badge.svg\" alt=\"Open In Colab\"/></a>"
      ]
    },
    {
      "cell_type": "markdown",
      "metadata": {
        "id": "58W3Qr5WLRST",
        "colab_type": "text"
      },
      "source": [
        "In this notebook we will create a Caesar cypher encoder-decoder. A Caesar cypher is a simple code which maps each letter of a message to another letter by a simple transformation based on an integer key - for example, a key of 2 maps A to C and D to F. "
      ]
    },
    {
      "cell_type": "code",
      "metadata": {
        "id": "ewlBG8HkLdpe",
        "colab_type": "code",
        "colab": {}
      },
      "source": [
        "#import packages\n",
        "import string\n",
        "\n",
        "alphabet = string.ascii_lowercase"
      ],
      "execution_count": 22,
      "outputs": []
    },
    {
      "cell_type": "code",
      "metadata": {
        "id": "cqeCTEogMZtY",
        "colab_type": "code",
        "colab": {}
      },
      "source": [
        "def CaesarEncode(message, key):     #Request a message (a string) and a key to encrypt (an integer)\n",
        "  if type(key) != int:\n",
        "    print('Sorry, the key must be an integer. Please try again.')\n",
        "  else:\n",
        "    message = message.lower()\n",
        "    chars_list = [char for char in message]\n",
        "    for i in range(len(chars_list)):\n",
        "      if chars_list[i] in alphabet:\n",
        "        alphabet_index_i = alphabet.index(chars_list[i])\n",
        "        new_alphabet_index_i = (alphabet_index_i + key) % 26\n",
        "        chars_list[i] = alphabet[new_alphabet_index_i]\n",
        "      else:\n",
        "        continue\n",
        "    return \"\".join(chars_list)\n",
        "\n",
        "def CaesarDecode(message, key):\n",
        "  if type(key) != int:\n",
        "    print('Sorry, the key must be an integer. Please try again.')\n",
        "  else:\n",
        "    message = message.lower()\n",
        "    chars_list = [char for char in message]\n",
        "    for i in range(len(chars_list)):\n",
        "      if chars_list[i] in alphabet:\n",
        "        alphabet_index_i = alphabet.index(chars_list[i])\n",
        "        new_alphabet_index_i = (alphabet_index_i - key) % 26\n",
        "        chars_list[i] = alphabet[new_alphabet_index_i]\n",
        "      else:\n",
        "        continue\n",
        "    return \"\".join(chars_list)"
      ],
      "execution_count": 48,
      "outputs": []
    },
    {
      "cell_type": "code",
      "metadata": {
        "id": "3eUXV_AWttfI",
        "colab_type": "code",
        "colab": {
          "base_uri": "https://localhost:8080/",
          "height": 35
        },
        "outputId": "7ce4a446-09ff-4b8b-c01d-a6592dc17e4f"
      },
      "source": [
        "message = 'Proceed to candidate site Alpha'\n",
        "key = 65\n",
        "CaesarEncode(message, key)"
      ],
      "execution_count": 47,
      "outputs": [
        {
          "output_type": "execute_result",
          "data": {
            "application/vnd.google.colaboratory.intrinsic+json": {
              "type": "string"
            },
            "text/plain": [
              "'cebprrq gb pnaqvqngr fvgr nycun'"
            ]
          },
          "metadata": {
            "tags": []
          },
          "execution_count": 47
        }
      ]
    },
    {
      "cell_type": "code",
      "metadata": {
        "id": "43rWftoyt5fS",
        "colab_type": "code",
        "colab": {
          "base_uri": "https://localhost:8080/",
          "height": 35
        },
        "outputId": "a8da7a6e-396f-4e11-c0c3-818c0348fcca"
      },
      "source": [
        "message = 'cebprrq gb pnaqvqngr fvgr nycun'\n",
        "CaesarDecode(message, 65)"
      ],
      "execution_count": 49,
      "outputs": [
        {
          "output_type": "execute_result",
          "data": {
            "application/vnd.google.colaboratory.intrinsic+json": {
              "type": "string"
            },
            "text/plain": [
              "'proceed to candidate site alpha'"
            ]
          },
          "metadata": {
            "tags": []
          },
          "execution_count": 49
        }
      ]
    },
    {
      "cell_type": "code",
      "metadata": {
        "id": "inUHdIdHzYY7",
        "colab_type": "code",
        "colab": {}
      },
      "source": [
        ""
      ],
      "execution_count": null,
      "outputs": []
    }
  ]
}